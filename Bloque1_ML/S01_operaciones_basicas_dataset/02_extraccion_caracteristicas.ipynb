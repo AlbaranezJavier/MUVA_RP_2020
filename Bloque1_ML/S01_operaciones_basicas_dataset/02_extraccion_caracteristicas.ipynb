{
 "cells": [
  {
   "cell_type": "markdown",
   "metadata": {
    "collapsed": true
   },
   "source": [
    "# Extracción de características\n",
    "\n",
    "En este cuaderno vamos a extraer dos características sencillas de los conjuntos de datos *1000ceros.csv* y *1000unos.csv*: la \"anchura\" y la \"altura\" de la cifra que se ve en una imagen.\n",
    "\n",
    "---\n",
    "    [ES] Código de Alfredo Cuesta Infante para 'Reconocimiento de Patrones'\n",
    "       @ Master Universitario en Visión Artificial, 2020, URJC (España)\n",
    "    [EN] Code by Alfredo Cuesta-Infante for 'Pattern Recognition'\n",
    "       @ Master of Computer Vision, 2020, URJC (Spain)\n",
    "\n",
    "    alfredo.cuesta@urjc.es"
   ]
  },
  {
   "cell_type": "code",
   "execution_count": 1,
   "metadata": {
    "collapsed": true
   },
   "outputs": [],
   "source": [
    "import numpy  as np\n",
    "import pandas as pd\n",
    "from matplotlib import pyplot as plt"
   ]
  },
  {
   "cell_type": "code",
   "execution_count": 2,
   "metadata": {
    "collapsed": true
   },
   "outputs": [],
   "source": [
    "FullSet_0 = pd.read_csv('../../Datasets/1000ceros.csv', header=None)\n",
    "FullSet_1 = pd.read_csv('../../Datasets/1000unos.csv',  header=None)\n",
    "\n",
    "#--Quick rescale to [0,1] given that any pixel is in [0,255]\n",
    "FullSet_0 = (FullSet_0 / 255.0)\n",
    "FullSet_1 = (FullSet_1 / 255.0)"
   ]
  },
  {
   "cell_type": "markdown",
   "metadata": {},
   "source": [
    "Vamos a crear dos características (*feature*) a partir de los píxeles de una imagen elegida con la variable **seleccion**.\n",
    "\n",
    "Para ello calcularemos la suma de cada fila y de cada columna de la imagen, y después la normalizaremos a [0,1]. \n",
    "\n",
    "Las dos características que vamos a calcular son la *anchura* y *altura* de la imagen.\n",
    "\n",
    "+ La *anchura* = número de columnas entre la primera y la última que tienen más de un $\\theta$ % del máximo\n",
    "+ La *altura*  = número de filas entre la primera y la última que tienen más de un $\\theta$ % del máximo<br>\n",
    "    ( $\\theta$  es otra variable ) \n",
    "\n",
    "Finalmente creamos un dataframe con ambas"
   ]
  },
  {
   "cell_type": "code",
   "execution_count": 3,
   "metadata": {},
   "outputs": [
    {
     "data": {
      "text/plain": "<Figure size 504x504 with 4 Axes>",
      "image/png": "[encoded data removed]"
     },
     "metadata": {
      "needs_background": "light"
     },
     "output_type": "display_data"
    },
    {
     "data": {
      "text/plain": "   width  height\n0     14      17",
      "text/html": "<div>\n<style scoped>\n    .dataframe tbody tr th:only-of-type {\n        vertical-align: middle;\n    }\n\n    .dataframe tbody tr th {\n        vertical-align: top;\n    }\n\n    .dataframe thead th {\n        text-align: right;\n    }\n</style>\n<table border=\"1\" class=\"dataframe\">\n  <thead>\n    <tr style=\"text-align: right;\">\n      <th></th>\n      <th>width</th>\n      <th>height</th>\n    </tr>\n  </thead>\n  <tbody>\n    <tr>\n      <th>0</th>\n      <td>14</td>\n      <td>17</td>\n    </tr>\n  </tbody>\n</table>\n</div>"
     },
     "execution_count": 3,
     "metadata": {},
     "output_type": "execute_result"
    }
   ],
   "source": [
    "theta = 0.5  #<- feature parameter\n",
    "seleccion = 0 #<- index of the selected instance\n",
    "\n",
    "x = FullSet_0.iloc[seleccion].values.reshape([28,28])\n",
    "\n",
    "#--width feature\n",
    "sum_cols = x.sum(axis=0)\n",
    "indc = np.argwhere(sum_cols > theta * sum_cols.max())\n",
    "width = indc[-1] - indc[0]\n",
    "\n",
    "#--height feature\n",
    "sum_rows = x.sum(axis=1)\n",
    "indr = np.argwhere(sum_rows > theta * sum_rows.max())\n",
    "height = indr[-1] - indr[0]\n",
    "features_df = pd.DataFrame({'width':width, 'height':height})\n",
    "\n",
    "##------------ we can visualize and print the two features \n",
    "plt.rcParams['figure.figsize'] = [7,7] #<- this makes the figures larger in Jupyter\n",
    "plt.subplot(221)\n",
    "plt.plot(sum_cols)\n",
    "plt.plot(indc[[0,-1]],sum_cols[indc[[0,0]]],'r')\n",
    "plt.title('columns -> width')\n",
    "plt.subplot(222)\n",
    "plt.plot(sum_rows)\n",
    "plt.plot(indr[[0,-1]],sum_rows[indr[[0,0]]],'m')\n",
    "plt.title('rows -> height')\n",
    "plt.subplot(223)\n",
    "plt.imshow(x,cmap='Blues')\n",
    "plt.plot(indc[[0,-1]],sum_cols[indc[[0,0]]],'r')\n",
    "plt.plot(sum_rows[indr[[0,0]]],indr[[0,-1]],'m')\n",
    "plt.title('Input space')\n",
    "plt.subplot(224)\n",
    "plt.plot(width,height,'o')\n",
    "plt.axis([0,30,0,30])\n",
    "plt.title('Feature space')\n",
    "plt.show()\n",
    "features_df"
   ]
  },
  {
   "cell_type": "markdown",
   "metadata": {},
   "source": [
    "En la celda de arriba hemos credo dos características a partir de la imagen.\n",
    "\n",
    "Al principio, la imagen $x$(escalada al intervalo unidad) se puede considerar como un punto en el espacio ${[0,1]}^{28\\times28}$. <br>\n",
    "Sin embargo no todos los píxeles aportar información útil. \n",
    "\n",
    "La ingeniería de características consiste en extraer la información que pueda ser relevante para describir el dato de entrada *crudo*.<br>\n",
    "En este caso, hemos diseñado una manera de extraer la *altura* y la *anchura* del número de entrada.\n",
    "Este método se puede ver como dos funciones $f_H$ y $f_W$ que mapean el dato de entrada a una característica\n",
    "\n",
    "$f_H : {[0,1]}^{28\\times28} \\longrightarrow \\mathbb{R}$, tal que  $f_H(x) = \\mathrm{height}, \\quad$\n",
    "y\n",
    "$\\quad f_W : {[0,1]}^{28\\times28} \\longrightarrow \\mathbb{R}$, tal que  $f_W(x) = \\mathrm{width}.$\n",
    "\n",
    "En definitiva, la imagen de resolución $28\\times28$ se representa por un punto 2D (height,width), que podemos pintar facilmente.\n",
    "\n",
    "En la figura se denomina \"espacio de entrada\" (*input space*) al espacio donde viven los datos de entrada *crudos*, y \"espacio de características\" (*feature space*) al espacio donde viven las representación de los datos diseñadas o elegidas."
   ]
  },
  {
   "cell_type": "markdown",
   "metadata": {},
   "source": [
    "### Ejercicio\n",
    "En la celda de arriba hemos creado un vector 2D de características (*height*, *width*) para **una** imagen seleccionada de un dataframe.\n",
    "\n",
    "Pero la extracción de características se debe realizar sobre todos los datos (entrenamiento, validación, test, y los datos nuevos que lleguen una vez se ponga la máquina en producción). Por tanto nos conviene tener una función que realice esta tarea sobre un dataframe\n",
    "\n",
    "\n",
    "Crear una función **feat_width** que:\n",
    "+ Reciba un dataframe, del cual sabemos lo que representa cada fila y columna\n",
    "    - En esta caso cada fila es una imagen de 0 o de 1, serializada en un vector de 784 elementos.\n",
    "    - Cada columna es el valor de un pixel, normalizado al intervalo [0,1]\n",
    "    - Todas las imágenes son en escala de grises, por lo que no hay 3 canales (R,G,B), sólo 1.\n",
    "+ Reciba un parametro **theta** para ajustar la característica, por defecto = 0.1    \n",
    "+ Devuelva un dataframe con una columna llamada **width** y tantas filas como filas tiene el dataframe de entrada\n",
    "\n",
    "Después crear otra función **feat_height** con las mismas características, pero para la altura (**height**)\n",
    "\n",
    "**Ayuda:** Una matriz de 1000 filas y 784 columnas (1000 x 784) se puede transformar en otra de 1000 x 28 x 28<br>\n",
    "Prueba el siguiente código para verlo mejor:\n",
    "\n",
    "    data = FullSet_0.values           #<- volcado del dataframe en un numpy array de forma 1000x784 \n",
    "    data = data.reshape([1000,28,28]) #<- cambiamos la forma de 'data', de matriz 2D pasa a 3D\n",
    "    plt.imshow(data[15,:,:])          #<- mostrar la imagen número 15 <br>\n",
    "\n",
    "**Comentario** Recuerda que utilizar bucles es inneficiente cuando se usan lenguajes o bibliotecas optimizadas para vectores como Matlab o Numpy. Hay que intentar pensar en como operar con las matrices N-dimensionales; o al menos intentar operar con matrices 2D. <br>\n",
    "Por ejemplo, cuando tratamos con imágenes en escala de grises, podemos utilizar el eje 0 para indexarlas, el eje 1 para las filas y el eje 2 para las columnas de la matriz 2D que representa cada imagen. <br>\n",
    "Así podemos utilizar un for para recorrer cada imagen y luego utilizar los métodos matriciales para evitar recorrer las filas y las columnas.\n",
    "\n",
    "\n",
    "**¡Cuidado!** Cuando se hace **reshape** para pasar de 2D a 3D con el código de arriba, la matriz 28x28 se forma colocando una fila de 28 elementos sobre otra. Prueba el siguiente código para verlo mejor:\n",
    "\n",
    "    foo=np.ceil(np.random.rand(2,12)*10)\n",
    "    print('\\n original-------------------\\n'); print(foo)\n",
    "    print('\\n reshape([2,3,4])-----------\\n'); print(foo.reshape([2,3,4]))"
   ]
  },
  {
   "cell_type": "code",
   "execution_count": 4,
   "outputs": [],
   "source": [
    "# Suma las columnas de cada imagen del dataset y las almacena en un array\n",
    "def feat_width(data, theta=0.1):\n",
    "    width = np.zeros(data.shape[0])\n",
    "    data = data.values.reshape([data.shape[0], 28, 28])\n",
    "    for i in range(data.shape[0]):\n",
    "        sum_cols = data[i].sum(axis=0)\n",
    "        indc = np.argwhere(sum_cols > theta * sum_cols.max())\n",
    "        width[i] = indc[-1] - indc[0]\n",
    "    return width\n",
    "\n",
    "# Suma las filas de cada imagen del dataset y las almacena en un array\n",
    "def feat_height(data, theta=0.1):\n",
    "    height = np.zeros(data.shape[0])\n",
    "    data = data.values.reshape([data.shape[0], 28, 28])\n",
    "    for i in range(data.shape[0]):\n",
    "        sum_rows = data[i].sum(axis=1)\n",
    "        indc = np.argwhere(sum_rows > theta * sum_rows.max())\n",
    "        height[i] = indc[-1] - indc[0]\n",
    "    return height\n",
    "\n",
    "x = feat_width(FullSet_0)"
   ],
   "metadata": {
    "collapsed": false,
    "pycharm": {
     "name": "#%%\n"
    }
   }
  },
  {
   "cell_type": "markdown",
   "metadata": {},
   "source": [
    "### Ejercicio\n",
    "Visualizar la anchura frente a la altura de cada uno de las imágenes de *FullSet_0* y de *FullSet_1*.<br>\n",
    "+ Puedes elegir el **theta** que quieras.\n",
    "+ Utiliza un color diferente para cada una de ellas. Además es recomendable utilizar un nivel de transparencia (alpha) bajo, entre 0.1 y 0.2.\n",
    "\n",
    "Como habrá muchos pares (anchura,altura) que coincidan, una buena idea es separarlos un poco añadiendo una agitación o *jitter*. En el siguiente código es una función que genera un *jitter* gaussiano, centrado en 0 y con una desviación *sigma*, que además puede ser positivo o negativo, sobre un vector de numpy o una serie de pandas, X.\n",
    "\n",
    "    def jitter(X,sigma=0.3):\n",
    "        random_sign = (-1)**np.random.randint(1,3,*X.shape)\n",
    "        return X + np.random.normal(0,sigma,*X.shape)*random_sign"
   ]
  },
  {
   "cell_type": "code",
   "execution_count": 5,
   "outputs": [
    {
     "data": {
      "text/plain": "<Figure size 1080x504 with 1 Axes>",
      "image/png": "[encoded data removed]"
     },
     "metadata": {
      "needs_background": "light"
     },
     "output_type": "display_data"
    }
   ],
   "source": [
    "theta = 0.5  #<- feature parameter\n",
    "\n",
    "#--width feature\n",
    "width_0 = feat_width(FullSet_0,theta)\n",
    "width_1 = feat_width(FullSet_1,theta)\n",
    "\n",
    "#--height feature\n",
    "height_0 = feat_height(FullSet_0,theta)\n",
    "height_1 = feat_height(FullSet_1,theta)\n",
    "\n",
    "##------------ we can visualize and print the two features\n",
    "plt.rcParams['figure.figsize'] = [15,7] #<- this makes the figures larger in Jupyter\n",
    "plt.scatter(width_0,height_0, c=\"red\", alpha=0.1)\n",
    "plt.scatter(width_1, height_1, c=\"blue\", alpha=0.1)\n",
    "plt.title('Feature space')\n",
    "plt.show()"
   ],
   "metadata": {
    "collapsed": false,
    "pycharm": {
     "name": "#%%\n"
    }
   }
  },
  {
   "cell_type": "markdown",
   "metadata": {},
   "source": [
    "### Ejercicio\n",
    "1. Crear la función **feat_3max_cols** que reciba un dataframe con las imágenes serializadas y devuelva un dataframe con 3 columnas y 1000 filas.\n",
    "    - cada fila de los dataframes se corresponden con una imagen\n",
    "    - las columnas del dataframe obtenido son las columnas donde se encuentran los máximos de anchura (ver la primera imagen)\n",
    "    \n",
    "2. Crear la función **feat_3max_rows** que reciba un dataframe con las imágenes serializadas y devuelva un dataframe con 3 columnas y 1000 filas.\n",
    "    - cada fila de los dataframes se corresponden con una imagen\n",
    "    - las columnas del dataframe obtenido son las columnas donde se encuentran los máximos de altura (ver la primera imagen)\n",
    "    \n",
    "3. Añadir a los dataframes **FeatSet_0** y **FeatSet_1** las nuevas 6 características\n",
    "\n",
    "4. Visualizar diferentes pares de características usando el mísmo código de colores que arriba."
   ]
  },
  {
   "cell_type": "code",
   "execution_count": 6,
   "outputs": [
    {
     "name": "stdout",
     "output_type": "stream",
     "text": [
      "       W1    W2    W3    H1    H2    H3\n",
      "0     7.0   8.0  20.0   9.0  21.0   8.0\n",
      "1     8.0  21.0  20.0  21.0  20.0  10.0\n",
      "2    18.0  12.0  11.0   7.0  21.0   8.0\n",
      "3    19.0  10.0  18.0  21.0   9.0  20.0\n",
      "4     7.0  19.0  20.0  22.0   8.0   9.0\n",
      "..    ...   ...   ...   ...   ...   ...\n",
      "995   8.0  12.0   7.0   9.0  20.0   8.0\n",
      "996  11.0  17.0  16.0  21.0  10.0  20.0\n",
      "997  21.0   6.0  22.0   7.0  20.0  19.0\n",
      "998  18.0  17.0  16.0   8.0   9.0  10.0\n",
      "999  18.0   5.0  22.0   8.0   9.0  21.0\n",
      "\n",
      "[1000 rows x 6 columns]\n",
      "       W1    W2    W3    H1    H2    H3\n",
      "0    12.0  10.0  11.0   7.0  15.0  20.0\n",
      "1    13.0  15.0  14.0  20.0  18.0  17.0\n",
      "2    13.0  15.0  14.0  10.0  11.0  15.0\n",
      "3    15.0  14.0  13.0  15.0  13.0  14.0\n",
      "4    15.0  11.0  10.0  15.0   9.0  10.0\n",
      "..    ...   ...   ...   ...   ...   ...\n",
      "995  12.0  10.0  11.0  10.0  12.0  11.0\n",
      "996  13.0  15.0  14.0  11.0  12.0  13.0\n",
      "997  13.0  12.0  11.0  13.0   9.0  12.0\n",
      "998  13.0  15.0  14.0  13.0  11.0  12.0\n",
      "999  15.0  13.0  14.0   7.0   8.0   9.0\n",
      "\n",
      "[1000 rows x 6 columns]\n"
     ]
    }
   ],
   "source": [
    "def feat_3max_cols(data):\n",
    "    width = np.zeros((data.shape[0], 3))\n",
    "    df = data.values.reshape([data.shape[0], 28, 28])\n",
    "    for i in range(df.shape[0]):\n",
    "        sum_cols = df[i].sum(axis=0)\n",
    "        width[i] = np.argsort(sum_cols)[-3:]\n",
    "    return pd.DataFrame(width, columns= [\"W1\", \"W2\", \"W3\"])\n",
    "\n",
    "def feat_3max_rows(data):\n",
    "    higth = np.zeros((data.shape[0],3))\n",
    "    df = data.values.reshape([data.shape[0], 28, 28])\n",
    "    for i in range(data.shape[0]):\n",
    "        sum_rows = df[i].sum(axis=1)\n",
    "        higth[i] = np.argsort(sum_rows)[-3:]\n",
    "    return pd.DataFrame(higth, columns= [\"H1\", \"H2\", \"H3\"])\n",
    "\n",
    "FeatSet_0 = pd.concat([feat_3max_cols(FullSet_0), feat_3max_rows(FullSet_0)], axis=1)\n",
    "print(FeatSet_0)\n",
    "FeatSet_1 = pd.concat([feat_3max_cols(FullSet_1), feat_3max_rows(FullSet_1)], axis=1)\n",
    "print(FeatSet_1)"
   ],
   "metadata": {
    "collapsed": false,
    "pycharm": {
     "name": "#%%\n"
    }
   }
  }
 ],
 "metadata": {
  "kernelspec": {
   "name": "pycharm-c49d2d5b",
   "language": "python",
   "display_name": "PyCharm (Repositorio_MUVA_RP_2020)"
  },
  "language_info": {
   "codemirror_mode": {
    "name": "ipython",
    "version": 3
   },
   "file_extension": ".py",
   "mimetype": "text/x-python",
   "name": "python",
   "nbconvert_exporter": "python",
   "pygments_lexer": "ipython3",
   "version": "3.5.2"
  }
 },
 "nbformat": 4,
 "nbformat_minor": 2
}